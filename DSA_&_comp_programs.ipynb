{
  "nbformat": 4,
  "nbformat_minor": 0,
  "metadata": {
    "colab": {
      "provenance": [],
      "authorship_tag": "ABX9TyNfmY2inN+wb21iveDcTIxo",
      "include_colab_link": true
    },
    "kernelspec": {
      "name": "python3",
      "display_name": "Python 3"
    },
    "language_info": {
      "name": "python"
    }
  },
  "cells": [
    {
      "cell_type": "markdown",
      "metadata": {
        "id": "view-in-github",
        "colab_type": "text"
      },
      "source": [
        "<a href=\"https://colab.research.google.com/github/shaddy2911/My-Functions-and-Classes/blob/main/DSA_%26_comp_programs.ipynb\" target=\"_parent\"><img src=\"https://colab.research.google.com/assets/colab-badge.svg\" alt=\"Open In Colab\"/></a>"
      ]
    },
    {
      "cell_type": "code",
      "execution_count": null,
      "metadata": {
        "id": "6vyVtgMjIa8n"
      },
      "outputs": [],
      "source": [
        "def is_prime(n):\n",
        "    if n<2 and n>0:\n",
        "        return f'number should be greater than 1'\n",
        "    for i in range(2,n):\n",
        "        if n%i==0:\n",
        "            return f'{n} is not a prime number'\n",
        "        return f'{n} is a prime number'\n"
      ]
    },
    {
      "cell_type": "code",
      "source": [
        "is_prime(10)"
      ],
      "metadata": {
        "colab": {
          "base_uri": "https://localhost:8080/",
          "height": 35
        },
        "id": "Xn8wyFkHJTYq",
        "outputId": "de0e02f0-b510-4cc5-c9f2-9b7fae39e1c3"
      },
      "execution_count": null,
      "outputs": [
        {
          "output_type": "execute_result",
          "data": {
            "text/plain": [
              "'10 is not a prime number'"
            ],
            "application/vnd.google.colaboratory.intrinsic+json": {
              "type": "string"
            }
          },
          "metadata": {},
          "execution_count": 9
        }
      ]
    },
    {
      "cell_type": "code",
      "source": [
        "def fibonacci(n):\n",
        "    res=[]\n",
        "    a,b=0,1\n",
        "    for i in range(n):\n",
        "        res.append(a)\n",
        "        a,b=b,a+b\n",
        "    return res"
      ],
      "metadata": {
        "id": "r2AY340DJVeI"
      },
      "execution_count": null,
      "outputs": []
    },
    {
      "cell_type": "code",
      "source": [
        "fibonacci(10)"
      ],
      "metadata": {
        "colab": {
          "base_uri": "https://localhost:8080/"
        },
        "id": "pf8KaJXQLMWt",
        "outputId": "80e2f2ad-580f-43d5-d27c-aaee697be14d"
      },
      "execution_count": null,
      "outputs": [
        {
          "output_type": "execute_result",
          "data": {
            "text/plain": [
              "[0, 1, 1, 2, 3, 5, 8, 13, 21, 34]"
            ]
          },
          "metadata": {},
          "execution_count": 11
        }
      ]
    },
    {
      "cell_type": "markdown",
      "source": [
        "# Imporatnt Algorithms"
      ],
      "metadata": {
        "id": "LTE6tjavslXn"
      }
    },
    {
      "cell_type": "markdown",
      "source": [
        "# Sorting Algoriths"
      ],
      "metadata": {
        "id": "9BKn2XSostg3"
      }
    },
    {
      "cell_type": "code",
      "source": [
        "#Bubble Sort Algorithm\n",
        "def bubble_sort(arr):\n",
        "    n=len(arr)\n",
        "    for i in range(n):\n",
        "        swapped=False\n",
        "        for j in range(0,n-i-1):\n",
        "            if arr[j]>arr[j+1]:\n",
        "                arr[j],arr[j+1]=arr[j+1],arr[j]\n",
        "                swapped=True\n",
        "        if not swapped:\n",
        "            break\n",
        "    return arr"
      ],
      "metadata": {
        "id": "vjzmwZEmLWfF"
      },
      "execution_count": null,
      "outputs": []
    },
    {
      "cell_type": "code",
      "source": [
        "bubble_sort([1000,34,76,90])"
      ],
      "metadata": {
        "colab": {
          "base_uri": "https://localhost:8080/"
        },
        "id": "GVhYp2_IvCp1",
        "outputId": "d3fca9df-29d7-464f-9a5f-863ef11933d5"
      },
      "execution_count": null,
      "outputs": [
        {
          "output_type": "execute_result",
          "data": {
            "text/plain": [
              "[34, 76, 90, 1000]"
            ]
          },
          "metadata": {},
          "execution_count": 8
        }
      ]
    },
    {
      "cell_type": "code",
      "source": [
        "# Quick Sort algorithm\n",
        "\n",
        "def quick_sort(arr):\n",
        "    if len(arr)<1:\n",
        "        return arr\n",
        "\n",
        "    else:\n",
        "        pivot=arr[len(arr)//2]\n",
        "        right=[i for i in arr if i>pivot]\n",
        "        left=[i for i in arr if i<pivot]\n",
        "        middle=[i for i in arr if i==pivot]\n",
        "        return quick_sort(left)+middle+quick_sort(right)"
      ],
      "metadata": {
        "id": "vfQPB7npv7yW"
      },
      "execution_count": null,
      "outputs": []
    },
    {
      "cell_type": "code",
      "source": [
        "quick_sort([1000,34,76,90])"
      ],
      "metadata": {
        "colab": {
          "base_uri": "https://localhost:8080/"
        },
        "id": "Lo4cZLdmy--V",
        "outputId": "c104c0ec-bbbc-4835-a99b-be8b7c82e800"
      },
      "execution_count": null,
      "outputs": [
        {
          "output_type": "execute_result",
          "data": {
            "text/plain": [
              "[34, 76, 90, 1000]"
            ]
          },
          "metadata": {},
          "execution_count": 14
        }
      ]
    },
    {
      "cell_type": "code",
      "source": [
        "# Merge Sort\n",
        "def merge_sort(arr):\n",
        "    if len(arr)<=1:\n",
        "        return arr\n",
        "    mid=len(arr)//2\n",
        "    left=merge_sort(arr[:mid])\n",
        "    right=merge_sort(arr[mid:])\n",
        "\n",
        "    return merge(left,right)\n",
        "\n",
        "\n",
        "def merge(left,right):\n",
        "    sorted_arr=[]\n",
        "    i=j=0\n",
        "\n",
        "    while i<len(left) and j<len(right):\n",
        "        if left[i]<right[j]:\n",
        "            sorted_arr.append(left[i])\n",
        "            i+=1\n",
        "        else:\n",
        "            sorted_arr.append(right[j])\n",
        "            j+=1\n",
        "\n",
        "    sorted_arr.extend(left[i:])\n",
        "    sorted_arr.extend(right[j:])\n",
        "    return sorted_arr"
      ],
      "metadata": {
        "id": "kc8o5goNaWWi"
      },
      "execution_count": null,
      "outputs": []
    },
    {
      "cell_type": "code",
      "source": [
        "merge_sort([1000,34,76,90])"
      ],
      "metadata": {
        "colab": {
          "base_uri": "https://localhost:8080/"
        },
        "id": "pXWndcFib24e",
        "outputId": "b8ae68c1-132c-40c8-e698-b9a9b1e6ef7e"
      },
      "execution_count": null,
      "outputs": [
        {
          "output_type": "execute_result",
          "data": {
            "text/plain": [
              "[34, 76, 90, 1000]"
            ]
          },
          "metadata": {},
          "execution_count": 8
        }
      ]
    },
    {
      "cell_type": "markdown",
      "source": [
        "# Searching Algorithms"
      ],
      "metadata": {
        "id": "s3UNxAwPnd-7"
      }
    },
    {
      "cell_type": "code",
      "source": [
        "#linear search\n",
        "def linear_search(arr,target):\n",
        "    for i in range(len(arr)):\n",
        "        if arr[i]==target:\n",
        "            return i\n",
        "    return f'element not in the array'"
      ],
      "metadata": {
        "id": "ckOUFuRwb_h-"
      },
      "execution_count": 3,
      "outputs": []
    },
    {
      "cell_type": "code",
      "source": [
        "linear_search(['a','b','c'],'c')"
      ],
      "metadata": {
        "colab": {
          "base_uri": "https://localhost:8080/"
        },
        "id": "_GZmFSTWoO6C",
        "outputId": "65ad4570-9ec3-432f-8b61-bd650e616ddc"
      },
      "execution_count": 5,
      "outputs": [
        {
          "output_type": "execute_result",
          "data": {
            "text/plain": [
              "2"
            ]
          },
          "metadata": {},
          "execution_count": 5
        }
      ]
    },
    {
      "cell_type": "code",
      "source": [
        "# Binary search  (works for only numerically sorted arrays or lists)\n",
        "\n",
        "def binary_search(arr,target):\n",
        "    left=0\n",
        "    right=len(arr)-1\n",
        "    while left<=right:\n",
        "        mid=left+(right-left)//2\n",
        "        if arr[mid]==target:\n",
        "            return mid\n",
        "        elif arr[mid]<target:\n",
        "            left=mid+1\n",
        "        else:\n",
        "            right=mid-1\n",
        "    return f'element is not in the array'"
      ],
      "metadata": {
        "id": "NfCIlJ67o2qy"
      },
      "execution_count": 9,
      "outputs": []
    },
    {
      "cell_type": "code",
      "source": [
        "binary_search([1,2,3,4,5,6,7,8,9],7)"
      ],
      "metadata": {
        "colab": {
          "base_uri": "https://localhost:8080/"
        },
        "id": "AU0LiwmbrqbK",
        "outputId": "8d309156-471c-4870-d9c6-0bce16ecdcd5"
      },
      "execution_count": 11,
      "outputs": [
        {
          "output_type": "execute_result",
          "data": {
            "text/plain": [
              "6"
            ]
          },
          "metadata": {},
          "execution_count": 11
        }
      ]
    },
    {
      "cell_type": "code",
      "source": [
        "# Depth first Search algorithm (DFS)\n",
        "\n",
        "def dfs_recursive(graph,node,visited=None):\n",
        "    if visited is None:\n",
        "        visited=set()\n",
        "    visited.add(node)\n",
        "    print(node)\n",
        "\n",
        "    for neighbour in graph[node]:\n",
        "        if neighbour not in visited:\n",
        "            dfs_recursive(graph,neighbour,visited)"
      ],
      "metadata": {
        "id": "qspWrdrgr_un"
      },
      "execution_count": 12,
      "outputs": []
    },
    {
      "cell_type": "code",
      "source": [
        "graph = {\n",
        "    'A': ['B', 'C'],\n",
        "    'B': ['D', 'E'],\n",
        "    'C': ['F'],\n",
        "    'D': [],\n",
        "    'E': ['F'],\n",
        "    'F': []\n",
        "}\n",
        "\n",
        "dfs_recursive(graph,'A')"
      ],
      "metadata": {
        "colab": {
          "base_uri": "https://localhost:8080/"
        },
        "id": "yrvZ8SIbvUHu",
        "outputId": "621755ce-c1ce-4ea9-d69d-47d5bc6eb65a"
      },
      "execution_count": 20,
      "outputs": [
        {
          "output_type": "stream",
          "name": "stdout",
          "text": [
            "A\n",
            "B\n",
            "D\n",
            "E\n",
            "F\n",
            "C\n"
          ]
        }
      ]
    },
    {
      "cell_type": "code",
      "source": [],
      "metadata": {
        "id": "yiX12a2PwzN9"
      },
      "execution_count": null,
      "outputs": []
    }
  ]
}